{
 "cells": [
  {
   "cell_type": "code",
   "execution_count": 21,
   "metadata": {},
   "outputs": [],
   "source": [
    "import json\n",
    "import numpy as np\n",
    "import re\n",
    "import os"
   ]
  },
  {
   "cell_type": "code",
   "execution_count": 22,
   "metadata": {},
   "outputs": [],
   "source": [
    "OUTPUT_DIR = \"output_vos_networks\"\n",
    "OUTPUT_FILES = [\n",
    "    # \"ICLR2023_oneshot_detailed_paragraph.json\",\n",
    "    # \"CVPR_oneshot_detailed_paragraph.json\",\n",
    "    # \"ICLR2023_detailed_paragraph.json\",\n",
    "    # \"CVPR_detailed_paragraph.json\",\n",
    "    \"ICLR2023_detailed_paragraph_with_refinements.json\",\n",
    "    \"CVPR_detailed_paragraph_with_refinements.json\",\n",
    "    # \"ICLR2023_oneshot_detailed_paragraph_with_refinements.json\",\n",
    "    # \"CVPR_oneshot_detailed_paragraph_with_refinements.json\",\n",
    "]\n",
    "OUTPUT_FILE_PATHS = [os.path.join(OUTPUT_DIR, file) for file in OUTPUT_FILES]"
   ]
  },
  {
   "cell_type": "code",
   "execution_count": 29,
   "metadata": {},
   "outputs": [],
   "source": [
    "def number_of_citations(text: str) -> int:\n",
    "    # a citation is [d1] or d[10] etc\n",
    "    return len(re.findall(r\"\\[\\d+\\]\", text))\n",
    "    \n",
    "    \n",
    "def number_of_words(text: str) -> int:\n",
    "    return len(text.split())\n",
    "\n",
    "def number_of_sentences(text: str) -> int:\n",
    "    return len(re.findall(r\"[.?!]+\", text))\n"
   ]
  },
  {
   "cell_type": "code",
   "execution_count": 30,
   "metadata": {},
   "outputs": [
    {
     "name": "stdout",
     "output_type": "stream",
     "text": [
      "Average number of citations per summary:  0.0\n",
      "Average number of words per summary:  206.33333333333334\n",
      "Average number of sentences per summary:  10.285714285714286\n"
     ]
    }
   ],
   "source": [
    "total_words = 0\n",
    "total_sentences = 0\n",
    "total_citation_perc = 0\n",
    "total_count = 0\n",
    "for file_path in OUTPUT_FILE_PATHS:\n",
    "    # read json\n",
    "    with open(file_path) as f:\n",
    "        data = json.load(f)\n",
    "        for cluster in data[\"network\"][\"clusters\"]:\n",
    "            \n",
    "            summary = cluster[\"summary\"][\"tldr_summary\"].split(\"\\n\\n\")[1]\n",
    "            citations_perc = number_of_citations(summary) / 10.0\n",
    "            words_num = number_of_words(summary)\n",
    "            sentences_num = number_of_sentences(summary)\n",
    "            \n",
    "            total_citation_perc += citations_perc\n",
    "            total_words += words_num\n",
    "            total_sentences += sentences_num\n",
    "            total_count += 1\n",
    "            \n",
    "print(\"Average number of citations per summary: \", total_citation_perc / total_count)\n",
    "print(\"Average number of words per summary: \", total_words / total_count)\n",
    "print(\"Average number of sentences per summary: \", total_sentences / total_count)\n",
    "\n",
    "            \n",
    "\n"
   ]
  },
  {
   "cell_type": "code",
   "execution_count": 33,
   "metadata": {},
   "outputs": [
    {
     "data": {
      "text/plain": [
       "0"
      ]
     },
     "execution_count": 33,
     "metadata": {},
     "output_type": "execute_result"
    }
   ],
   "source": [
    "number_of_citations(\"a [1] test\")"
   ]
  },
  {
   "cell_type": "code",
   "execution_count": null,
   "metadata": {},
   "outputs": [],
   "source": []
  },
  {
   "cell_type": "code",
   "execution_count": null,
   "metadata": {},
   "outputs": [],
   "source": []
  }
 ],
 "metadata": {
  "kernelspec": {
   "display_name": "uni",
   "language": "python",
   "name": "python3"
  },
  "language_info": {
   "codemirror_mode": {
    "name": "ipython",
    "version": 3
   },
   "file_extension": ".py",
   "mimetype": "text/x-python",
   "name": "python",
   "nbconvert_exporter": "python",
   "pygments_lexer": "ipython3",
   "version": "3.8.12"
  },
  "orig_nbformat": 4
 },
 "nbformat": 4,
 "nbformat_minor": 2
}
